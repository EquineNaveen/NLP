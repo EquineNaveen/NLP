{
 "cells": [
  {
   "cell_type": "code",
   "execution_count": 7,
   "id": "389957a5",
   "metadata": {},
   "outputs": [
    {
     "name": "stderr",
     "output_type": "stream",
     "text": [
      "[nltk_data] Downloading package averaged_perceptron_tagger_eng to\n",
      "[nltk_data]     C:\\Users\\NAVEEN GOWDA\\AppData\\Roaming\\nltk_data...\n",
      "[nltk_data]   Package averaged_perceptron_tagger_eng is already up-to-\n",
      "[nltk_data]       date!\n"
     ]
    },
    {
     "data": {
      "text/plain": [
       "True"
      ]
     },
     "execution_count": 7,
     "metadata": {},
     "output_type": "execute_result"
    }
   ],
   "source": [
    "from nltk.corpus import stopwords\n",
    "from nltk.tokenize import sent_tokenize, word_tokenize\n",
    "import nltk\n",
    "nltk.download(\"averaged_perceptron_tagger_eng\")"
   ]
  },
  {
   "cell_type": "code",
   "execution_count": 8,
   "id": "78a041dd",
   "metadata": {},
   "outputs": [],
   "source": [
    "text=\"\"\"In recent years, technology has advanced at an unprecedented rate, reshaping the way we live, communicate, and work. From smartphones to smart homes, artificial intelligence to blockchain, innovation has penetrated nearly every sector of society. People today are more connected than ever before, with information accessible at their fingertips. While this transformation brings numerous benefits, it also raises concerns about privacy, data security, and the growing digital divide.\n",
    "\n",
    "Education, for example, has undergone significant change due to online learning platforms and virtual classrooms. Students can access a wide array of courses from anywhere in the world, breaking traditional barriers to education. However, not everyone has equal access to reliable internet or digital devices, which can limit the effectiveness of such advancements.\n",
    "\n",
    "In the workplace, automation and AI tools have streamlined operations, reduced repetitive tasks, and boosted productivity. Businesses use data analytics to make smarter decisions and forecast future trends. At the same time, workers fear that machines might replace them, leading to job displacement in certain industries. Balancing efficiency with human employment remains a key challenge.\n",
    "\n",
    "Meanwhile, social media continues to influence opinions, behaviors, and even elections. While it promotes freedom of expression and global awareness, it can also spread misinformation and create echo chambers. Managing this influence is crucial for a healthy democratic society.\n",
    "\n",
    "Sustainability is another area where technology plays a dual role. Renewable energy solutions, smart agriculture, and waste reduction systems contribute to environmental protection. Yet, electronic waste and energy consumption by data centers pose environmental threats.\n",
    "\n",
    "As we navigate this digital era, it is essential to ensure technology serves all people equitably. Ethical innovation, inclusive policies, and digital literacy can help bridge gaps and build a future where progress benefits everyone—regardless of geography, income, or background.\n",
    "\"\"\""
   ]
  },
  {
   "cell_type": "code",
   "execution_count": 9,
   "id": "908584fa",
   "metadata": {},
   "outputs": [
    {
     "name": "stdout",
     "output_type": "stream",
     "text": [
      "[('In', 'IN'), ('recent', 'JJ'), ('years', 'NNS'), (',', ','), ('technology', 'NN'), ('advanced', 'VBD'), ('unprecedented', 'JJ'), ('rate', 'NN'), (',', ','), ('reshaping', 'VBG'), ('way', 'NN'), ('live', 'JJ'), (',', ','), ('communicate', 'NN'), (',', ','), ('work', 'NN'), ('.', '.')]\n",
      "[('From', 'IN'), ('smartphones', 'NNS'), ('smart', 'JJ'), ('homes', 'NNS'), (',', ','), ('artificial', 'JJ'), ('intelligence', 'NN'), ('blockchain', 'NN'), (',', ','), ('innovation', 'NN'), ('penetrated', 'VBD'), ('nearly', 'RB'), ('every', 'DT'), ('sector', 'NN'), ('society', 'NN'), ('.', '.')]\n",
      "[('People', 'NNS'), ('today', 'NN'), ('connected', 'VBN'), ('ever', 'RB'), (',', ','), ('information', 'NN'), ('accessible', 'JJ'), ('fingertips', 'NNS'), ('.', '.')]\n",
      "[('While', 'IN'), ('transformation', 'NN'), ('brings', 'VBZ'), ('numerous', 'JJ'), ('benefits', 'NNS'), (',', ','), ('also', 'RB'), ('raises', 'VBZ'), ('concerns', 'NNS'), ('privacy', 'NN'), (',', ','), ('data', 'NNS'), ('security', 'NN'), (',', ','), ('growing', 'VBG'), ('digital', 'JJ'), ('divide', 'NN'), ('.', '.')]\n",
      "[('Education', 'NN'), (',', ','), ('example', 'NN'), (',', ','), ('undergone', 'JJ'), ('significant', 'JJ'), ('change', 'NN'), ('due', 'JJ'), ('online', 'NN'), ('learning', 'NN'), ('platforms', 'NNS'), ('virtual', 'JJ'), ('classrooms', 'NNS'), ('.', '.')]\n",
      "[('Students', 'NNS'), ('access', 'NN'), ('wide', 'JJ'), ('array', 'NN'), ('courses', 'NNS'), ('anywhere', 'RB'), ('world', 'NN'), (',', ','), ('breaking', 'VBG'), ('traditional', 'JJ'), ('barriers', 'NNS'), ('education', 'NN'), ('.', '.')]\n",
      "[('However', 'RB'), (',', ','), ('everyone', 'NN'), ('equal', 'JJ'), ('access', 'NN'), ('reliable', 'JJ'), ('internet', 'NN'), ('digital', 'JJ'), ('devices', 'NNS'), (',', ','), ('limit', 'NN'), ('effectiveness', 'NN'), ('advancements', 'NNS'), ('.', '.')]\n",
      "[('In', 'IN'), ('workplace', 'NN'), (',', ','), ('automation', 'NN'), ('AI', 'NNP'), ('tools', 'NNS'), ('streamlined', 'VBD'), ('operations', 'NNS'), (',', ','), ('reduced', 'VBD'), ('repetitive', 'JJ'), ('tasks', 'NNS'), (',', ','), ('boosted', 'VBD'), ('productivity', 'NN'), ('.', '.')]\n",
      "[('Businesses', 'NNS'), ('use', 'VBP'), ('data', 'NNS'), ('analytics', 'NNS'), ('make', 'VBP'), ('smarter', 'JJ'), ('decisions', 'NNS'), ('forecast', 'VBP'), ('future', 'JJ'), ('trends', 'NNS'), ('.', '.')]\n",
      "[('At', 'IN'), ('time', 'NN'), (',', ','), ('workers', 'NNS'), ('fear', 'VBP'), ('machines', 'NNS'), ('might', 'MD'), ('replace', 'VB'), (',', ','), ('leading', 'VBG'), ('job', 'NN'), ('displacement', 'NN'), ('certain', 'JJ'), ('industries', 'NNS'), ('.', '.')]\n",
      "[('Balancing', 'VBG'), ('efficiency', 'NN'), ('human', 'JJ'), ('employment', 'NN'), ('remains', 'VBZ'), ('key', 'JJ'), ('challenge', 'NN'), ('.', '.')]\n",
      "[('Meanwhile', 'RB'), (',', ','), ('social', 'JJ'), ('media', 'NNS'), ('continues', 'VBZ'), ('influence', 'NN'), ('opinions', 'NNS'), (',', ','), ('behaviors', 'NNS'), (',', ','), ('even', 'RB'), ('elections', 'NNS'), ('.', '.')]\n",
      "[('While', 'IN'), ('promotes', 'NNS'), ('freedom', 'VBP'), ('expression', 'NN'), ('global', 'JJ'), ('awareness', 'NN'), (',', ','), ('also', 'RB'), ('spread', 'JJ'), ('misinformation', 'NN'), ('create', 'NN'), ('echo', 'JJ'), ('chambers', 'NNS'), ('.', '.')]\n",
      "[('Managing', 'VBG'), ('influence', 'NN'), ('crucial', 'JJ'), ('healthy', 'JJ'), ('democratic', 'JJ'), ('society', 'NN'), ('.', '.')]\n",
      "[('Sustainability', 'NNP'), ('another', 'DT'), ('area', 'NN'), ('technology', 'NN'), ('plays', 'VBZ'), ('dual', 'JJ'), ('role', 'NN'), ('.', '.')]\n",
      "[('Renewable', 'JJ'), ('energy', 'NN'), ('solutions', 'NNS'), (',', ','), ('smart', 'JJ'), ('agriculture', 'NN'), (',', ','), ('waste', 'NN'), ('reduction', 'NN'), ('systems', 'NNS'), ('contribute', 'VBP'), ('environmental', 'JJ'), ('protection', 'NN'), ('.', '.')]\n",
      "[('Yet', 'RB'), (',', ','), ('electronic', 'JJ'), ('waste', 'NN'), ('energy', 'NN'), ('consumption', 'NN'), ('data', 'NNS'), ('centers', 'NNS'), ('pose', 'VBP'), ('environmental', 'JJ'), ('threats', 'NNS'), ('.', '.')]\n",
      "[('As', 'IN'), ('navigate', 'JJ'), ('digital', 'JJ'), ('era', 'NN'), (',', ','), ('essential', 'JJ'), ('ensure', 'VB'), ('technology', 'NN'), ('serves', 'NNS'), ('people', 'NNS'), ('equitably', 'RB'), ('.', '.')]\n",
      "[('Ethical', 'JJ'), ('innovation', 'NN'), (',', ','), ('inclusive', 'JJ'), ('policies', 'NNS'), (',', ','), ('digital', 'JJ'), ('literacy', 'NN'), ('help', 'NN'), ('bridge', 'NN'), ('gaps', 'NNS'), ('build', 'VB'), ('future', 'JJ'), ('progress', 'NN'), ('benefits', 'NNS'), ('everyone—regardless', 'NN'), ('geography', 'NN'), (',', ','), ('income', 'NN'), (',', ','), ('background', 'NN'), ('.', '.')]\n"
     ]
    }
   ],
   "source": [
    "sentences=nltk.sent_tokenize(text)\n",
    "for i in range(len(sentences)):\n",
    "    words=word_tokenize(sentences[i])\n",
    "    words=[word for word in words if word not in set(stopwords.words('english'))]\n",
    "    pos_tags=nltk.pos_tag(words)\n",
    "    print(pos_tags)"
   ]
  }
 ],
 "metadata": {
  "kernelspec": {
   "display_name": "Python 3",
   "language": "python",
   "name": "python3"
  },
  "language_info": {
   "codemirror_mode": {
    "name": "ipython",
    "version": 3
   },
   "file_extension": ".py",
   "mimetype": "text/x-python",
   "name": "python",
   "nbconvert_exporter": "python",
   "pygments_lexer": "ipython3",
   "version": "3.11.3"
  }
 },
 "nbformat": 4,
 "nbformat_minor": 5
}
