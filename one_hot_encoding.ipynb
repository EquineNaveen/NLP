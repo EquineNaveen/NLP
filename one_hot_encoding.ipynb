{
 "cells": [
  {
   "cell_type": "code",
   "execution_count": 12,
   "id": "a7fcac54",
   "metadata": {},
   "outputs": [],
   "source": [
    "from sklearn.preprocessing import OneHotEncoder\n",
    "import numpy as np\n",
    "\n",
    "\n"
   ]
  },
  {
   "cell_type": "code",
   "execution_count": 13,
   "id": "bfbaaa90",
   "metadata": {},
   "outputs": [],
   "source": [
    "sentences = ['I love programming', 'I love machine learning', 'Python is great', 'I love Python']\n",
    "\n",
    "words = [sentence.split() for sentence in sentences]\n",
    "\n",
    "all_words = [word for sentence in words for word in sentence]\n",
    "\n",
    "unique_words = list(set(all_words))"
   ]
  },
  {
   "cell_type": "code",
   "execution_count": null,
   "id": "5800ad14",
   "metadata": {},
   "outputs": [
    {
     "name": "stdout",
     "output_type": "stream",
     "text": [
      "Word: I -> Encoding: [1. 0. 0. 0. 0. 0. 0. 0.]\n",
      "Word: learning -> Encoding: [0. 0. 0. 0. 1. 0. 0. 0.]\n",
      "Word: Python -> Encoding: [0. 1. 0. 0. 0. 0. 0. 0.]\n",
      "Word: is -> Encoding: [0. 0. 0. 1. 0. 0. 0. 0.]\n",
      "Word: programming -> Encoding: [0. 0. 0. 0. 0. 0. 0. 1.]\n",
      "Word: great -> Encoding: [0. 0. 1. 0. 0. 0. 0. 0.]\n",
      "Word: love -> Encoding: [0. 0. 0. 0. 0. 1. 0. 0.]\n",
      "Word: machine -> Encoding: [0. 0. 0. 0. 0. 0. 1. 0.]\n"
     ]
    }
   ],
   "source": [
    "words_reshaped = [[word] for word in unique_words]\n",
    "\n",
    "encoder.fit(words_reshaped)\n",
    "\n",
    "word_encoding = {word: encoder.transform([[word]])[0] for word in unique_words}\n",
    "\n",
    "for word, encoding in word_encoding.items():\n",
    "    print(f\"Word: {word} -> Encoding: {encoding}\")\n"
   ]
  }
 ],
 "metadata": {
  "kernelspec": {
   "display_name": "Python 3",
   "language": "python",
   "name": "python3"
  },
  "language_info": {
   "codemirror_mode": {
    "name": "ipython",
    "version": 3
   },
   "file_extension": ".py",
   "mimetype": "text/x-python",
   "name": "python",
   "nbconvert_exporter": "python",
   "pygments_lexer": "ipython3",
   "version": "3.11.3"
  }
 },
 "nbformat": 4,
 "nbformat_minor": 5
}
