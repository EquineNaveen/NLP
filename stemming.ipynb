{
 "cells": [
  {
   "cell_type": "code",
   "execution_count": 1,
   "id": "7c3865c6",
   "metadata": {},
   "outputs": [],
   "source": [
    "from nltk.stem import PorterStemmer"
   ]
  },
  {
   "cell_type": "code",
   "execution_count": 2,
   "id": "10ff76ec",
   "metadata": {},
   "outputs": [
    {
     "name": "stdout",
     "output_type": "stream",
     "text": [
      "Original: playing | Stemmed: play\n",
      "Original: played | Stemmed: play\n",
      "Original: plays | Stemmed: play\n",
      "Original: running | Stemmed: run\n",
      "Original: runner | Stemmed: runner\n",
      "Original: easily | Stemmed: easili\n",
      "Original: fairer | Stemmed: fairer\n",
      "Original: fairness | Stemmed: fair\n",
      "Original: caring | Stemmed: care\n",
      "Original: cared | Stemmed: care\n",
      "Original: flies | Stemmed: fli\n",
      "Original: flying | Stemmed: fli\n",
      "Original: studied | Stemmed: studi\n",
      "Original: studies | Stemmed: studi\n",
      "Original: studying | Stemmed: studi\n",
      "Original: organization | Stemmed: organ\n",
      "Original: organizational | Stemmed: organiz\n",
      "Original: generalization | Stemmed: gener\n",
      "Original: happily | Stemmed: happili\n",
      "Original: happiness | Stemmed: happi\n",
      "Original: agreement | Stemmed: agreement\n",
      "Original: disagreed | Stemmed: disagre\n",
      "Original: unacceptable | Stemmed: unaccept\n",
      "Original: relocation | Stemmed: reloc\n",
      "Original: movement | Stemmed: movement\n"
     ]
    }
   ],
   "source": [
    "stemmer = PorterStemmer()\n",
    "\n",
    "words = [\"playing\", \"played\", \"plays\", \"running\", \"runner\", \"easily\", \"fairer\",\n",
    "         \"fairness\", \"caring\", \"cared\", \"flies\", \"flying\", \"studied\", \"studies\",\n",
    "         \"studying\", \"organization\", \"organizational\", \"generalization\", \"happily\",\n",
    "         \"happiness\", \"agreement\", \"disagreed\", \"unacceptable\", \"relocation\", \"movement\"]\n",
    "\n",
    "for word in words:  \n",
    "    stem = stemmer.stem(word)\n",
    "    print(f\"Original: {word} | Stemmed: {stem}\")\n"
   ]
  },
  {
   "cell_type": "code",
   "execution_count": 5,
   "id": "d86b29c5",
   "metadata": {},
   "outputs": [
    {
     "name": "stdout",
     "output_type": "stream",
     "text": [
      "play\n",
      "eat\n"
     ]
    }
   ],
   "source": [
    "from nltk.stem import RegexpStemmer\n",
    "regexp_stemmer = RegexpStemmer('ing$|s$|e$|able$', min=4)\n",
    "print(regexp_stemmer.stem(\"playing\"))\n",
    "print(regexp_stemmer.stem(\"eating\"))  "
   ]
  },
  {
   "cell_type": "code",
   "execution_count": 6,
   "id": "8ebbd6a6",
   "metadata": {},
   "outputs": [
    {
     "name": "stdout",
     "output_type": "stream",
     "text": [
      "Original: playing | Stemmed: play\n",
      "Original: played | Stemmed: play\n",
      "Original: plays | Stemmed: play\n",
      "Original: running | Stemmed: run\n",
      "Original: runner | Stemmed: runner\n",
      "Original: easily | Stemmed: easili\n",
      "Original: fairer | Stemmed: fairer\n",
      "Original: fairness | Stemmed: fair\n",
      "Original: caring | Stemmed: care\n",
      "Original: cared | Stemmed: care\n",
      "Original: flies | Stemmed: fli\n",
      "Original: flying | Stemmed: fli\n",
      "Original: studied | Stemmed: studi\n",
      "Original: studies | Stemmed: studi\n",
      "Original: studying | Stemmed: studi\n",
      "Original: organization | Stemmed: organ\n",
      "Original: organizational | Stemmed: organiz\n",
      "Original: generalization | Stemmed: general\n",
      "Original: happily | Stemmed: happili\n",
      "Original: happiness | Stemmed: happi\n",
      "Original: agreement | Stemmed: agreement\n",
      "Original: disagreed | Stemmed: disagre\n",
      "Original: unacceptable | Stemmed: unaccept\n",
      "Original: relocation | Stemmed: reloc\n",
      "Original: movement | Stemmed: movement\n"
     ]
    }
   ],
   "source": [
    "from nltk.stem import SnowballStemmer\n",
    "snowball_stemmer = SnowballStemmer(\"english\")\n",
    "for word in words:\n",
    "    stem = snowball_stemmer.stem(word)\n",
    "    print(f\"Original: {word} | Stemmed: {stem}\")"
   ]
  },
  {
   "cell_type": "code",
   "execution_count": null,
   "id": "7739fb16",
   "metadata": {},
   "outputs": [
    {
     "name": "stdout",
     "output_type": "stream",
     "text": [
      "fair\n",
      "fairli\n"
     ]
    }
   ],
   "source": [
    "print(snowball_stemmer.stem(\"fairly\"))\n",
    "print(stemmer.stem(\"fairly\"))  # Note: PorterStemmer does not have a stem for \"fairly\",snoball stemmer does better job compared to porter stemmer"
   ]
  },
  {
   "cell_type": "code",
   "execution_count": null,
   "id": "91775711",
   "metadata": {},
   "outputs": [],
   "source": []
  }
 ],
 "metadata": {
  "kernelspec": {
   "display_name": "Python 3",
   "language": "python",
   "name": "python3"
  },
  "language_info": {
   "codemirror_mode": {
    "name": "ipython",
    "version": 3
   },
   "file_extension": ".py",
   "mimetype": "text/x-python",
   "name": "python",
   "nbconvert_exporter": "python",
   "pygments_lexer": "ipython3",
   "version": "3.11.3"
  }
 },
 "nbformat": 4,
 "nbformat_minor": 5
}
