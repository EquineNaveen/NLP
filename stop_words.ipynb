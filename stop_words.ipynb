{
 "cells": [
  {
   "cell_type": "code",
   "execution_count": 35,
   "id": "ddefda12",
   "metadata": {},
   "outputs": [
    {
     "name": "stderr",
     "output_type": "stream",
     "text": [
      "[nltk_data] Downloading package stopwords to C:\\Users\\NAVEEN\n",
      "[nltk_data]     GOWDA\\AppData\\Roaming\\nltk_data...\n",
      "[nltk_data]   Package stopwords is already up-to-date!\n"
     ]
    },
    {
     "data": {
      "text/plain": [
       "True"
      ]
     },
     "execution_count": 35,
     "metadata": {},
     "output_type": "execute_result"
    }
   ],
   "source": [
    "from nltk.stem import PorterStemmer\n",
    "from nltk.corpus import stopwords\n",
    "from nltk.tokenize import sent_tokenize, word_tokenize\n",
    "import nltk\n",
    "nltk.download('stopwords')"
   ]
  },
  {
   "cell_type": "code",
   "execution_count": 36,
   "id": "c1f873cf",
   "metadata": {},
   "outputs": [],
   "source": [
    "text=\"\"\"In recent years, technology has advanced at an unprecedented rate, reshaping the way we live, communicate, and work. From smartphones to smart homes, artificial intelligence to blockchain, innovation has penetrated nearly every sector of society. People today are more connected than ever before, with information accessible at their fingertips. While this transformation brings numerous benefits, it also raises concerns about privacy, data security, and the growing digital divide.\n",
    "\n",
    "Education, for example, has undergone significant change due to online learning platforms and virtual classrooms. Students can access a wide array of courses from anywhere in the world, breaking traditional barriers to education. However, not everyone has equal access to reliable internet or digital devices, which can limit the effectiveness of such advancements.\n",
    "\n",
    "In the workplace, automation and AI tools have streamlined operations, reduced repetitive tasks, and boosted productivity. Businesses use data analytics to make smarter decisions and forecast future trends. At the same time, workers fear that machines might replace them, leading to job displacement in certain industries. Balancing efficiency with human employment remains a key challenge.\n",
    "\n",
    "Meanwhile, social media continues to influence opinions, behaviors, and even elections. While it promotes freedom of expression and global awareness, it can also spread misinformation and create echo chambers. Managing this influence is crucial for a healthy democratic society.\n",
    "\n",
    "Sustainability is another area where technology plays a dual role. Renewable energy solutions, smart agriculture, and waste reduction systems contribute to environmental protection. Yet, electronic waste and energy consumption by data centers pose environmental threats.\n",
    "\n",
    "As we navigate this digital era, it is essential to ensure technology serves all people equitably. Ethical innovation, inclusive policies, and digital literacy can help bridge gaps and build a future where progress benefits everyone—regardless of geography, income, or background.\n",
    "\"\"\""
   ]
  },
  {
   "cell_type": "code",
   "execution_count": 37,
   "id": "9f7ecbd2",
   "metadata": {},
   "outputs": [
    {
     "data": {
      "text/plain": [
       "['a',\n",
       " 'about',\n",
       " 'above',\n",
       " 'after',\n",
       " 'again',\n",
       " 'against',\n",
       " 'ain',\n",
       " 'all',\n",
       " 'am',\n",
       " 'an',\n",
       " 'and',\n",
       " 'any',\n",
       " 'are',\n",
       " 'aren',\n",
       " \"aren't\",\n",
       " 'as',\n",
       " 'at',\n",
       " 'be',\n",
       " 'because',\n",
       " 'been',\n",
       " 'before',\n",
       " 'being',\n",
       " 'below',\n",
       " 'between',\n",
       " 'both',\n",
       " 'but',\n",
       " 'by',\n",
       " 'can',\n",
       " 'couldn',\n",
       " \"couldn't\",\n",
       " 'd',\n",
       " 'did',\n",
       " 'didn',\n",
       " \"didn't\",\n",
       " 'do',\n",
       " 'does',\n",
       " 'doesn',\n",
       " \"doesn't\",\n",
       " 'doing',\n",
       " 'don',\n",
       " \"don't\",\n",
       " 'down',\n",
       " 'during',\n",
       " 'each',\n",
       " 'few',\n",
       " 'for',\n",
       " 'from',\n",
       " 'further',\n",
       " 'had',\n",
       " 'hadn',\n",
       " \"hadn't\",\n",
       " 'has',\n",
       " 'hasn',\n",
       " \"hasn't\",\n",
       " 'have',\n",
       " 'haven',\n",
       " \"haven't\",\n",
       " 'having',\n",
       " 'he',\n",
       " \"he'd\",\n",
       " \"he'll\",\n",
       " 'her',\n",
       " 'here',\n",
       " 'hers',\n",
       " 'herself',\n",
       " \"he's\",\n",
       " 'him',\n",
       " 'himself',\n",
       " 'his',\n",
       " 'how',\n",
       " 'i',\n",
       " \"i'd\",\n",
       " 'if',\n",
       " \"i'll\",\n",
       " \"i'm\",\n",
       " 'in',\n",
       " 'into',\n",
       " 'is',\n",
       " 'isn',\n",
       " \"isn't\",\n",
       " 'it',\n",
       " \"it'd\",\n",
       " \"it'll\",\n",
       " \"it's\",\n",
       " 'its',\n",
       " 'itself',\n",
       " \"i've\",\n",
       " 'just',\n",
       " 'll',\n",
       " 'm',\n",
       " 'ma',\n",
       " 'me',\n",
       " 'mightn',\n",
       " \"mightn't\",\n",
       " 'more',\n",
       " 'most',\n",
       " 'mustn',\n",
       " \"mustn't\",\n",
       " 'my',\n",
       " 'myself',\n",
       " 'needn',\n",
       " \"needn't\",\n",
       " 'no',\n",
       " 'nor',\n",
       " 'not',\n",
       " 'now',\n",
       " 'o',\n",
       " 'of',\n",
       " 'off',\n",
       " 'on',\n",
       " 'once',\n",
       " 'only',\n",
       " 'or',\n",
       " 'other',\n",
       " 'our',\n",
       " 'ours',\n",
       " 'ourselves',\n",
       " 'out',\n",
       " 'over',\n",
       " 'own',\n",
       " 're',\n",
       " 's',\n",
       " 'same',\n",
       " 'shan',\n",
       " \"shan't\",\n",
       " 'she',\n",
       " \"she'd\",\n",
       " \"she'll\",\n",
       " \"she's\",\n",
       " 'should',\n",
       " 'shouldn',\n",
       " \"shouldn't\",\n",
       " \"should've\",\n",
       " 'so',\n",
       " 'some',\n",
       " 'such',\n",
       " 't',\n",
       " 'than',\n",
       " 'that',\n",
       " \"that'll\",\n",
       " 'the',\n",
       " 'their',\n",
       " 'theirs',\n",
       " 'them',\n",
       " 'themselves',\n",
       " 'then',\n",
       " 'there',\n",
       " 'these',\n",
       " 'they',\n",
       " \"they'd\",\n",
       " \"they'll\",\n",
       " \"they're\",\n",
       " \"they've\",\n",
       " 'this',\n",
       " 'those',\n",
       " 'through',\n",
       " 'to',\n",
       " 'too',\n",
       " 'under',\n",
       " 'until',\n",
       " 'up',\n",
       " 've',\n",
       " 'very',\n",
       " 'was',\n",
       " 'wasn',\n",
       " \"wasn't\",\n",
       " 'we',\n",
       " \"we'd\",\n",
       " \"we'll\",\n",
       " \"we're\",\n",
       " 'were',\n",
       " 'weren',\n",
       " \"weren't\",\n",
       " \"we've\",\n",
       " 'what',\n",
       " 'when',\n",
       " 'where',\n",
       " 'which',\n",
       " 'while',\n",
       " 'who',\n",
       " 'whom',\n",
       " 'why',\n",
       " 'will',\n",
       " 'with',\n",
       " 'won',\n",
       " \"won't\",\n",
       " 'wouldn',\n",
       " \"wouldn't\",\n",
       " 'y',\n",
       " 'you',\n",
       " \"you'd\",\n",
       " \"you'll\",\n",
       " 'your',\n",
       " \"you're\",\n",
       " 'yours',\n",
       " 'yourself',\n",
       " 'yourselves',\n",
       " \"you've\"]"
      ]
     },
     "execution_count": 37,
     "metadata": {},
     "output_type": "execute_result"
    }
   ],
   "source": [
    "stopwords.words('english')\n"
   ]
  },
  {
   "cell_type": "code",
   "execution_count": 38,
   "id": "cf5c2dc9",
   "metadata": {},
   "outputs": [
    {
     "data": {
      "text/plain": [
       "198"
      ]
     },
     "execution_count": 38,
     "metadata": {},
     "output_type": "execute_result"
    }
   ],
   "source": [
    "\n",
    "len(stopwords.words('english'))\n"
   ]
  },
  {
   "cell_type": "code",
   "execution_count": 39,
   "id": "4a3348c6",
   "metadata": {},
   "outputs": [
    {
     "data": {
      "text/plain": [
       "['In recent years, technology has advanced at an unprecedented rate, reshaping the way we live, communicate, and work.',\n",
       " 'From smartphones to smart homes, artificial intelligence to blockchain, innovation has penetrated nearly every sector of society.',\n",
       " 'People today are more connected than ever before, with information accessible at their fingertips.',\n",
       " 'While this transformation brings numerous benefits, it also raises concerns about privacy, data security, and the growing digital divide.',\n",
       " 'Education, for example, has undergone significant change due to online learning platforms and virtual classrooms.',\n",
       " 'Students can access a wide array of courses from anywhere in the world, breaking traditional barriers to education.',\n",
       " 'However, not everyone has equal access to reliable internet or digital devices, which can limit the effectiveness of such advancements.',\n",
       " 'In the workplace, automation and AI tools have streamlined operations, reduced repetitive tasks, and boosted productivity.',\n",
       " 'Businesses use data analytics to make smarter decisions and forecast future trends.',\n",
       " 'At the same time, workers fear that machines might replace them, leading to job displacement in certain industries.',\n",
       " 'Balancing efficiency with human employment remains a key challenge.',\n",
       " 'Meanwhile, social media continues to influence opinions, behaviors, and even elections.',\n",
       " 'While it promotes freedom of expression and global awareness, it can also spread misinformation and create echo chambers.',\n",
       " 'Managing this influence is crucial for a healthy democratic society.',\n",
       " 'Sustainability is another area where technology plays a dual role.',\n",
       " 'Renewable energy solutions, smart agriculture, and waste reduction systems contribute to environmental protection.',\n",
       " 'Yet, electronic waste and energy consumption by data centers pose environmental threats.',\n",
       " 'As we navigate this digital era, it is essential to ensure technology serves all people equitably.',\n",
       " 'Ethical innovation, inclusive policies, and digital literacy can help bridge gaps and build a future where progress benefits everyone—regardless of geography, income, or background.']"
      ]
     },
     "execution_count": 39,
     "metadata": {},
     "output_type": "execute_result"
    }
   ],
   "source": [
    "stemmer = PorterStemmer()\n",
    "sentences=sent_tokenize(text)\n",
    "sentences"
   ]
  },
  {
   "cell_type": "code",
   "execution_count": 40,
   "id": "90c2d33b",
   "metadata": {},
   "outputs": [
    {
     "data": {
      "text/plain": [
       "['in recent year , technolog advanc unpreced rate , reshap way live , commun , work .',\n",
       " 'from smartphon smart home , artifici intellig blockchain , innov penetr nearli everi sector societi .',\n",
       " 'peopl today connect ever , inform access fingertip .',\n",
       " 'while transform bring numer benefit , also rais concern privaci , data secur , grow digit divid .',\n",
       " 'educ , exampl , undergon signific chang due onlin learn platform virtual classroom .',\n",
       " 'student access wide array cours anywher world , break tradit barrier educ .',\n",
       " 'howev , everyon equal access reliabl internet digit devic , limit effect advanc .',\n",
       " 'in workplac , autom ai tool streamlin oper , reduc repetit task , boost product .',\n",
       " 'busi use data analyt make smarter decis forecast futur trend .',\n",
       " 'at time , worker fear machin might replac , lead job displac certain industri .',\n",
       " 'balanc effici human employ remain key challeng .',\n",
       " 'meanwhil , social media continu influenc opinion , behavior , even elect .',\n",
       " 'while promot freedom express global awar , also spread misinform creat echo chamber .',\n",
       " 'manag influenc crucial healthi democrat societi .',\n",
       " 'sustain anoth area technolog play dual role .',\n",
       " 'renew energi solut , smart agricultur , wast reduct system contribut environment protect .',\n",
       " 'yet , electron wast energi consumpt data center pose environment threat .',\n",
       " 'as navig digit era , essenti ensur technolog serv peopl equit .',\n",
       " 'ethic innov , inclus polici , digit literaci help bridg gap build futur progress benefit everyone—regardless geographi , incom , background .']"
      ]
     },
     "execution_count": 40,
     "metadata": {},
     "output_type": "execute_result"
    }
   ],
   "source": [
    "for i in range(len(sentences)):\n",
    "    words=word_tokenize(sentences[i])\n",
    "    words=[stemmer.stem(word) for word in words if word not in set(stopwords.words('english'))]\n",
    "    sentences[i]=' '.join(words)\n",
    "sentences"
   ]
  },
  {
   "cell_type": "code",
   "execution_count": 41,
   "id": "b9305b3e",
   "metadata": {},
   "outputs": [
    {
     "data": {
      "text/plain": [
       "['recent year , technolog advanc unprec rate , reshap way live , commun , work .',\n",
       " 'smartphon smart home , artifici intellig blockchain , innov penetr near everi sector societi .',\n",
       " 'peopl today connect ever , inform access fingertip .',\n",
       " 'transform bring numer benefit , also rai concern privaci , data secur , grow digit divid .',\n",
       " 'educ , exampl , undergon signif chang due onlin learn platform virtual classroom .',\n",
       " 'student access wide array cour anywh world , break tradit barrier educ .',\n",
       " 'howev , everyon equal access reliabl internet digit devic , limit effect advanc .',\n",
       " 'workplac , autom ai tool streamlin oper , reduc repetit task , boost product .',\n",
       " 'busi use data analyt make smarter deci forecast futur trend .',\n",
       " 'time , worker fear machin might replac , lead job displac certain industri .',\n",
       " 'balanc effici human employ remain key challeng .',\n",
       " 'meanwhil , social media continu influenc opinion , behavior , even elect .',\n",
       " 'promot freedom express global awar , also spread misinform creat echo chamber .',\n",
       " 'manag influenc crucial healthi democrat societi .',\n",
       " 'sustain anoth area technolog play dual role .',\n",
       " 'renew energi solut , smart agricultur , wast reduct system contribut environ protect .',\n",
       " 'yet , electron wast energi consumpt data center pose environ threat .',\n",
       " 'navig digit era , essenti ensur technolog serv peopl equit .',\n",
       " 'ethic innov , inclus polici , digit literaci help bridg gap build futur progress benefit everyone—regardless geographi , incom , background .']"
      ]
     },
     "execution_count": 41,
     "metadata": {},
     "output_type": "execute_result"
    }
   ],
   "source": [
    "from nltk.stem import SnowballStemmer\n",
    "snowball_stemmer = SnowballStemmer('english')\n",
    "\n",
    "for i in range(len(sentences)):\n",
    "    words=word_tokenize(sentences[i])\n",
    "    words=[snowball_stemmer.stem(word) for word in words if word not in set(stopwords.words('english'))]\n",
    "    sentences[i]=' '.join(words)\n",
    "sentences"
   ]
  },
  {
   "cell_type": "code",
   "execution_count": 42,
   "id": "20429a69",
   "metadata": {},
   "outputs": [
    {
     "data": {
      "text/plain": [
       "['recent year , technolog advanc unprec rate , reshap way live , commun , work .',\n",
       " 'smartphon smart home , artifici intellig blockchain , innov penetr near everi sector societi .',\n",
       " 'peopl today connect ever , inform access fingertip .',\n",
       " 'transform bring numer benefit , also rai concern privaci , data secur , grow digit divid .',\n",
       " 'educ , exampl , undergon signif chang due onlin learn platform virtual classroom .',\n",
       " 'student access wide array cour anywh world , break tradit barrier educ .',\n",
       " 'howev , everyon equal access reliabl internet digit devic , limit effect advanc .',\n",
       " 'workplac , autom ai tool streamlin oper , reduc repetit task , boost product .',\n",
       " 'busi use data analyt make smarter deci forecast futur trend .',\n",
       " 'time , worker fear machin might replac , lead job displac certain industri .',\n",
       " 'balanc effici human employ remain key challeng .',\n",
       " 'meanwhil , social media continu influenc opinion , behavior , even elect .',\n",
       " 'promot freedom express global awar , also spread misinform creat echo chamber .',\n",
       " 'manag influenc crucial healthi democrat societi .',\n",
       " 'sustain anoth area technolog play dual role .',\n",
       " 'renew energi solut , smart agricultur , wast reduct system contribut environ protect .',\n",
       " 'yet , electron wast energi consumpt data center pose environ threat .',\n",
       " 'navig digit era , essenti ensur technolog serv peopl equit .',\n",
       " 'ethic innov , inclus polici , digit literaci help bridg gap build futur progress benefit everyone—regardless geographi , incom , background .']"
      ]
     },
     "execution_count": 42,
     "metadata": {},
     "output_type": "execute_result"
    }
   ],
   "source": [
    "from nltk.stem import WordNetLemmatizer\n",
    "lemmatizer = WordNetLemmatizer()\n",
    "for i in range(len(sentences)):\n",
    "    words=word_tokenize(sentences[i])\n",
    "    words=[lemmatizer.lemmatize(word,pos='r') for word in words if word not in set(stopwords.words('english'))]\n",
    "    sentences[i]=' '.join(words)\n",
    "sentences"
   ]
  }
 ],
 "metadata": {
  "kernelspec": {
   "display_name": "Python 3",
   "language": "python",
   "name": "python3"
  },
  "language_info": {
   "codemirror_mode": {
    "name": "ipython",
    "version": 3
   },
   "file_extension": ".py",
   "mimetype": "text/x-python",
   "name": "python",
   "nbconvert_exporter": "python",
   "pygments_lexer": "ipython3",
   "version": "3.11.3"
  }
 },
 "nbformat": 4,
 "nbformat_minor": 5
}
